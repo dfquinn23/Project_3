{
 "cells": [
  {
   "cell_type": "code",
   "execution_count": 113,
   "metadata": {},
   "outputs": [],
   "source": [
    "from crewai import Agent, Crew, Process, Task, LLM\n",
    "from crewai_tools import SerperDevTool, ScrapeWebsiteTool\n",
    "from langchain_openai import OpenAI\n",
    "\n",
    "import os\n",
    "from dotenv import load_dotenv\n",
    "\n",
    "# Load environment variables\n",
    "load_dotenv()\n",
    "\n",
    "OPENAI_API_KEY = os.getenv(\"OPENAI_API_KEY\")"
   ]
  },
  {
   "cell_type": "code",
   "execution_count": 114,
   "metadata": {},
   "outputs": [],
   "source": [
    "XAI_API_KEY = os.getenv(\"XAI_API_KEY\")\n",
    "os.environ[\"SERPER_API_KEY\"] = os.getenv(\"SERPER_API_KEY\")\n",
    "def get_llm() -> LLM:\n",
    "    # llm = None\n",
    "    # try:\n",
    "    #     llm = LLM(\n",
    "    #         model=\"grok-beta\",\n",
    "    #         base_url=\"https://api.x.ai/v1\",\n",
    "    #         api_key=XAI_API_KEY,\n",
    "    #     )\n",
    "    # except:\n",
    "    llm=LLM(model=\"ollama/crewai-llama3:latest\", temperature=0.7)\n",
    "    # llm = OpenAI(api_key=OPENAI_API_KEY, model=\"gpt-4\", temperature=0.3)\n",
    "    return llm"
   ]
  },
  {
   "cell_type": "code",
   "execution_count": 115,
   "metadata": {},
   "outputs": [],
   "source": [
    "class AgentSea:\n",
    "    def __init__(self, llm, company_name: str):\n",
    "        self.llm = llm\n",
    "        self.company_name = company_name\n",
    "\n",
    "    def ticker_finder_agent(self):\n",
    "        return Agent(\n",
    "            role=\"Senior Online Researcher\",\n",
    "            goal=\n",
    "                \"\"\"\n",
    "                Conduct an amazing online search to find the stock ticker for {self.company_name}.\n",
    "                IMPORTANT:\n",
    "                - If you cannot find the result, return \"Ticker not found\".\n",
    "                - Do not include any unnecessary words or phrases in your response and only provide the ticker symbol if found.\n",
    "                \"\"\",\n",
    "            backstory=\n",
    "                \"\"\"\n",
    "                You are a Senior Online Researcher that specializes in finding a company's stock martket ticker symbol with only the company name.\n",
    "                \"\"\",\n",
    "            agent_prompt = \"\"\"\n",
    "                You are an AI agent tasked with analyzing stock data. Follow these steps:\n",
    "\n",
    "                1. Think about what you need to do to complete the task.\n",
    "                2. Choose an action from the available tools.\n",
    "                3. Provide the action input as a dictionary.\n",
    "                4. Observe the result of the action.\n",
    "                5. Repeat steps 1-4 until you have enough information to provide a final answer.\n",
    "                6. When ready to give a final answer, use the format:\n",
    "\n",
    "                Thought: I now can give a great answer\n",
    "                Final Answer: [Your comprehensive answer here]\n",
    "\n",
    "                Remember:\n",
    "                - Always start with a Thought.\n",
    "                - Use each tool only once.\n",
    "                - Provide your final answer in the specified format.\n",
    "                \"\"\",\n",
    "            max_iter=5,\n",
    "            max_retry_limit=3,\n",
    "            tools=[SerperDevTool(), ScrapeWebsiteTool()],\n",
    "            llm=self.llm,\n",
    "            verbose=True,\n",
    "            memory=False\n",
    "        )"
   ]
  },
  {
   "cell_type": "code",
   "execution_count": 116,
   "metadata": {},
   "outputs": [],
   "source": [
    "from pydantic.v1 import BaseModel\n",
    "from typing import List\n",
    "\n",
    "class CompanyInfo(BaseModel):\n",
    "    company_name: str\n",
    "    ticker: str"
   ]
  },
  {
   "cell_type": "code",
   "execution_count": 117,
   "metadata": {},
   "outputs": [],
   "source": [
    "class AgentTasks:\n",
    "    def __init__(self, company_name: str):\n",
    "        self.company_name = company_name\n",
    "    \n",
    "    def find_correct_company_ticker(self, agent: Agent):\n",
    "        return Task(\n",
    "            description=(\n",
    "                f\"Conduct a thorough research about the company and find the correct stock market ticker symbol for {self.company_name}.\"\n",
    "            ),\n",
    "            agent=agent,\n",
    "            expeceted_output_type=\"A JSON object containing only the company name and ticker symbol.\",\n",
    "            output_json=CompanyInfo\n",
    "            # context=tasks,\n",
    "        )\n",
    "\n",
    "\n"
   ]
  },
  {
   "cell_type": "code",
   "execution_count": 119,
   "metadata": {},
   "outputs": [
    {
     "name": "stdout",
     "output_type": "stream",
     "text": [
      "LLM initialized: \u001b[1mOpenAI\u001b[0m\n",
      "Params: {'model_name': 'gpt-4', 'temperature': 0.3, 'top_p': 1, 'frequency_penalty': 0, 'presence_penalty': 0, 'n': 1, 'logit_bias': {}, 'seed': None, 'logprobs': None, 'max_tokens': 256}\n",
      "AgentSea initialized: <__main__.AgentSea object at 0x000001A6FF72B0D0>\n"
     ]
    },
    {
     "ename": "NameError",
     "evalue": "name 'company_name' is not defined",
     "output_type": "error",
     "traceback": [
      "\u001b[1;31m---------------------------------------------------------------------------\u001b[0m",
      "\u001b[1;31mNameError\u001b[0m                                 Traceback (most recent call last)",
      "Cell \u001b[1;32mIn[119], line 19\u001b[0m\n\u001b[0;32m     14\u001b[0m tasks \u001b[38;5;241m=\u001b[39m CompanyResearchTask(inputs[\u001b[38;5;124m'\u001b[39m\u001b[38;5;124mcompany_name\u001b[39m\u001b[38;5;124m'\u001b[39m])\n\u001b[0;32m     16\u001b[0m ticker_agent \u001b[38;5;241m=\u001b[39m agent_sea\u001b[38;5;241m.\u001b[39mticker_finder_agent()\n\u001b[0;32m     17\u001b[0m task \u001b[38;5;241m=\u001b[39m Task(\n\u001b[0;32m     18\u001b[0m     description\u001b[38;5;241m=\u001b[39m(\n\u001b[1;32m---> 19\u001b[0m     \u001b[38;5;124mf\u001b[39m\u001b[38;5;124m\"\u001b[39m\u001b[38;5;124mConduct a thorough research about the company and find the correct stock market ticker symbol for \u001b[39m\u001b[38;5;132;01m{\u001b[39;00m\u001b[43mcompany_name\u001b[49m\u001b[38;5;132;01m}\u001b[39;00m\u001b[38;5;124m\"\u001b[39m\n\u001b[0;32m     20\u001b[0m     ),\n\u001b[0;32m     21\u001b[0m     agent\u001b[38;5;241m=\u001b[39mticker_agent,\n\u001b[0;32m     22\u001b[0m     expected_output\u001b[38;5;241m=\u001b[39m(\n\u001b[0;32m     23\u001b[0m         \u001b[38;5;124m\"\u001b[39m\u001b[38;5;124mA string that is company stock ticker.\u001b[39m\u001b[38;5;124m\"\u001b[39m\n\u001b[0;32m     24\u001b[0m     ),\n\u001b[0;32m     25\u001b[0m     output_json\u001b[38;5;241m=\u001b[39m\u001b[38;5;28mstr\u001b[39m\n\u001b[0;32m     26\u001b[0m )\n",
      "\u001b[1;31mNameError\u001b[0m: name 'company_name' is not defined"
     ]
    }
   ],
   "source": [
    "inputs = {\n",
    "'company_name': 'tesla'\n",
    "}\n",
    "llm = get_llm()\n",
    "if llm is None:\n",
    "    raise ValueError(\"LLM failed to initialize. Please check your LLM provider settings.\")\n",
    "else:\n",
    "    print(f\"LLM initialized: {llm}\")\n",
    "agent_sea = AgentSea(llm, inputs['company_name'])\n",
    "tasks = AgentTasks(inputs['company_name'])\n",
    "\n",
    "ticker_agent = agent_sea.ticker_finder_agent()\n",
    "task = tasks.find_correct_company_ticker(ticker_agent)"
   ]
  }
 ],
 "metadata": {
  "kernelspec": {
   "display_name": ".venv",
   "language": "python",
   "name": "python3"
  },
  "language_info": {
   "codemirror_mode": {
    "name": "ipython",
    "version": 3
   },
   "file_extension": ".py",
   "mimetype": "text/x-python",
   "name": "python",
   "nbconvert_exporter": "python",
   "pygments_lexer": "ipython3",
   "version": "3.11.4"
  }
 },
 "nbformat": 4,
 "nbformat_minor": 2
}
