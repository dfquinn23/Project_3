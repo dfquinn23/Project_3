{
 "cells": [
  {
   "cell_type": "code",
   "execution_count": 2,
   "metadata": {},
   "outputs": [
    {
     "name": "stderr",
     "output_type": "stream",
     "text": [
      "2024-10-22 20:02:52,898 - 10640 - user_agent.py-user_agent:11 - WARNING: USER_AGENT environment variable not set, consider setting it to identify your requests.\n"
     ]
    }
   ],
   "source": [
    "from crewai import LLM\n",
    "from crewai_tools import BaseTool\n",
    "\n",
    "import os\n",
    "from dotenv import load_dotenv\n",
    "\n",
    "import getpass\n",
    "\n",
    "from langchain_community.tools.google_trends import GoogleTrendsQueryRun\n",
    "from langchain_community.utilities.google_trends import GoogleTrendsAPIWrapper\n",
    "from langchain_community.tools import TavilySearchResults\n",
    "from langchain_community.tools.yahoo_finance_news import YahooFinanceNewsTool\n",
    "\n",
    "from langchain_community.tools.google_finance import GoogleFinanceQueryRun\n",
    "from langchain_community.utilities.google_finance import GoogleFinanceAPIWrapper\n",
    "\n",
    "\n",
    "load_dotenv()\n",
    "\n",
    "os.environ[\"SERPAPI_API_KEY\"] = os.getenv(\"SERPER_API_KEY\")\n",
    "os.environ[\"TAVILY_API_KEY\"] = os.getenv(\"TAVILY_API_KEY\")"
   ]
  },
  {
   "cell_type": "code",
   "execution_count": 3,
   "metadata": {},
   "outputs": [],
   "source": [
    "\n",
    "# tool_google_trends = GoogleTrendsQueryRun(api_wrapper=GoogleTrendsAPIWrapper())\n",
    "# results_trends = tool_google_trends.run(\"ai agents\")\n",
    "# print(results_trends)"
   ]
  },
  {
   "cell_type": "code",
   "execution_count": 4,
   "metadata": {},
   "outputs": [],
   "source": [
    "tool_tavily = TavilySearchResults(\n",
    "    max_results=5,\n",
    "    search_depth=\"advanced\",\n",
    "    include_answer=True,\n",
    "    include_raw_content=True,\n",
    "    include_images=True,\n",
    "    # include_domains=[...],\n",
    "    # exclude_domains=[...],\n",
    "    # name=\"...\",            # overwrite default tool name\n",
    "    # description=\"...\",     # overwrite default tool description\n",
    "    # args_schema=...,       # overwrite default args_schema: BaseModel\n",
    ")\n",
    "\n",
    "# tool_tavily.invoke({\"query\": \"What happened to nvidia stock today?\"})"
   ]
  },
  {
   "cell_type": "code",
   "execution_count": 5,
   "metadata": {},
   "outputs": [],
   "source": [
    "# tool_yfi = YahooFinanceNewsTool()\n",
    "# res_yfi = tool_yfi.invoke(\"NVDA\")\n",
    "# print(res_yfi)"
   ]
  },
  {
   "cell_type": "code",
   "execution_count": 6,
   "metadata": {},
   "outputs": [],
   "source": [
    "from openai import OpenAI\n",
    "\n",
    "XAI_API_KEY = os.getenv(\"XAI_API_KEY\")\n",
    "client = OpenAI(\n",
    "    api_key=XAI_API_KEY,\n",
    "    base_url=\"https://api.x.ai/v1\",\n",
    ")\n",
    "\n",
    "completion = client.chat.completions.create(\n",
    "    model=\"grok-beta\",\n",
    "    messages=[\n",
    "        {\"role\": \"system\", \"content\": \"You are Grok, a chatbot inspired by the Hitchhikers Guide to the Galaxy and the best langchain coder ever.\"},\n",
    "        {\"role\": \"user\", \"content\": \"How do I setup a crew ai agent (https://docs.crewai.com/introduction) using an LLM endpoint, just as grok ai?\"},\n",
    "    ],\n",
    ")\n",
    "\n",
    "print(completion.choices[0].message)"
   ]
  },
  {
   "cell_type": "code",
   "execution_count": 7,
   "metadata": {},
   "outputs": [],
   "source": [
    "\n",
    "llm = LLM(\n",
    "    model=\"grok-beta\",\n",
    "    base_url=\"https://api.x.ai/v1\",\n",
    "    api_key=XAI_API_KEY,\n",
    ")"
   ]
  },
  {
   "cell_type": "code",
   "execution_count": 8,
   "metadata": {},
   "outputs": [
    {
     "data": {
      "text/plain": [
       "'\\nQuery: Google\\nNo summary information\\n'"
      ]
     },
     "execution_count": 8,
     "metadata": {},
     "output_type": "execute_result"
    }
   ],
   "source": [
    "tool_gfi = GoogleFinanceQueryRun(api_wrapper=GoogleFinanceAPIWrapper())\n"
   ]
  },
  {
   "cell_type": "code",
   "execution_count": 10,
   "metadata": {},
   "outputs": [
    {
     "data": {
      "text/plain": [
       "'\\nQuery: What is the price of NVDA\\nNo summary information\\n'"
      ]
     },
     "execution_count": 10,
     "metadata": {},
     "output_type": "execute_result"
    }
   ],
   "source": [
    "tool_gfi.run(\"NVDA\")\n"
   ]
  }
 ],
 "metadata": {
  "kernelspec": {
   "display_name": ".venv",
   "language": "python",
   "name": "python3"
  },
  "language_info": {
   "codemirror_mode": {
    "name": "ipython",
    "version": 3
   },
   "file_extension": ".py",
   "mimetype": "text/x-python",
   "name": "python",
   "nbconvert_exporter": "python",
   "pygments_lexer": "ipython3",
   "version": "3.11.4"
  }
 },
 "nbformat": 4,
 "nbformat_minor": 2
}
