{
 "cells": [
  {
   "cell_type": "code",
   "execution_count": null,
   "metadata": {},
   "outputs": [],
   "source": []
  },
  {
   "cell_type": "code",
   "execution_count": 1,
   "metadata": {},
   "outputs": [],
   "source": [
    "from typing import List\n",
    "from crewai import Agent, Crew, Process, Task, LLM\n",
    "# from crewai.project import CrewBase, agent, crew, task\n",
    "\n",
    "from crewai_tools import SerperDevTool, ScrapeWebsiteTool\n",
    "\n",
    "import os"
   ]
  },
  {
   "cell_type": "code",
   "execution_count": 2,
   "metadata": {},
   "outputs": [],
   "source": [
    "XAI_API_KEY = os.getenv(\"XAI_API_KEY\")\n",
    "\n",
    "llm = LLM(\n",
    "    model=\"grok-beta\",\n",
    "    base_url=\"https://api.x.ai/v1\",\n",
    "    api_key=XAI_API_KEY,\n",
    ")\n",
    "# llm=LLM(model=\"ollama/crewai-llama3:latest\", temperature=0.7)"
   ]
  },
  {
   "cell_type": "code",
   "execution_count": 5,
   "metadata": {},
   "outputs": [],
   "source": [
    "class AgentSea:\n",
    "    def __init__(self):\n",
    "        self.llm = llm\n",
    "    def ticker_finder_agent(self, company_name: str):\n",
    "        return Agent(\n",
    "            role=\"Senior Online Researcher\",\n",
    "            goal=\n",
    "                \"\"\"\n",
    "                Conduct an amazing online search to find the stock ticker for {company_name}.\n",
    "                IMPORTANT:\n",
    "                - If you cannot find the result, return \"Ticker not found\".\n",
    "                - Do not include any unnecessary words or phrases in your response and only provide the ticker symbol if found.\n",
    "                \"\"\",\n",
    "            backstory=\n",
    "                \"\"\"\n",
    "                You are a Senior Online Researcher that specializes in finding a company's stock martket ticker symbol with only the company name.\n",
    "                \"\"\",\n",
    "            max_iter=5,\n",
    "            max_retry_limit=3,\n",
    "            tools=[SerperDevTool(), ScrapeWebsiteTool()],\n",
    "            llm=self.llm,\n",
    "            verbose=True,\n",
    "            memory=False\n",
    "        ),"
   ]
  },
  {
   "cell_type": "code",
   "execution_count": 6,
   "metadata": {},
   "outputs": [],
   "source": [
    "class AgentTasks:\n",
    "    def __init__(self, job: str):\n",
    "        self.job = job\n",
    "    \n",
    "    def find_correct_company_ticker(self, agent: Agent, tasks: list[Task], company_name: str) -> Task:\n",
    "        return Task(\n",
    "            description=(\n",
    "                \"Conduct a thorough research about the company and find the correct stock market ticker symbol for {company_name}.\"\n",
    "            ),\n",
    "            agent=agent,\n",
    "            expeceted_output_type=(\n",
    "                \"A string object containing only the ticker symbol for {company_name}.\"\n",
    "            ),\n",
    "            context=tasks,\n",
    "        )"
   ]
  },
  {
   "cell_type": "code",
   "execution_count": 7,
   "metadata": {},
   "outputs": [
    {
     "name": "stderr",
     "output_type": "stream",
     "text": [
      "2024-10-24 06:16:15,256 - 15000 - llm.py-llm:178 - ERROR: Failed to get supported params: argument of type 'NoneType' is not iterable\n"
     ]
    },
    {
     "name": "stdout",
     "output_type": "stream",
     "text": [
      "\n",
      "\u001b[1;31mProvider List: https://docs.litellm.ai/docs/providers\u001b[0m\n",
      "\n"
     ]
    },
    {
     "ename": "AttributeError",
     "evalue": "'tuple' object has no attribute 'get'",
     "output_type": "error",
     "traceback": [
      "\u001b[1;31m---------------------------------------------------------------------------\u001b[0m",
      "\u001b[1;31mAttributeError\u001b[0m                            Traceback (most recent call last)",
      "Cell \u001b[1;32mIn[7], line 8\u001b[0m\n\u001b[0;32m      6\u001b[0m tasks \u001b[38;5;241m=\u001b[39m AgentTasks(\u001b[38;5;124m\"\u001b[39m\u001b[38;5;124mTest\u001b[39m\u001b[38;5;124m\"\u001b[39m)\n\u001b[0;32m      7\u001b[0m ticker_agent \u001b[38;5;241m=\u001b[39m agent_sea\u001b[38;5;241m.\u001b[39mticker_finder_agent(inputs[\u001b[38;5;124m'\u001b[39m\u001b[38;5;124mcompany_name\u001b[39m\u001b[38;5;124m'\u001b[39m])\n\u001b[1;32m----> 8\u001b[0m task \u001b[38;5;241m=\u001b[39m \u001b[43mtasks\u001b[49m\u001b[38;5;241;43m.\u001b[39;49m\u001b[43mfind_correct_company_ticker\u001b[49m\u001b[43m(\u001b[49m\u001b[43mticker_agent\u001b[49m\u001b[43m,\u001b[49m\u001b[43m \u001b[49m\u001b[43mtasks\u001b[49m\u001b[43m,\u001b[49m\u001b[43m \u001b[49m\u001b[43minputs\u001b[49m\u001b[43m[\u001b[49m\u001b[38;5;124;43m'\u001b[39;49m\u001b[38;5;124;43mcompany_name\u001b[39;49m\u001b[38;5;124;43m'\u001b[39;49m\u001b[43m]\u001b[49m\u001b[43m)\u001b[49m\n",
      "Cell \u001b[1;32mIn[6], line 6\u001b[0m, in \u001b[0;36mAgentTasks.find_correct_company_ticker\u001b[1;34m(self, agent, tasks, company_name)\u001b[0m\n\u001b[0;32m      5\u001b[0m \u001b[38;5;28;01mdef\u001b[39;00m \u001b[38;5;21mfind_correct_company_ticker\u001b[39m(\u001b[38;5;28mself\u001b[39m, agent: Agent, tasks: \u001b[38;5;28mlist\u001b[39m[Task], company_name: \u001b[38;5;28mstr\u001b[39m) \u001b[38;5;241m-\u001b[39m\u001b[38;5;241m>\u001b[39m Task:\n\u001b[1;32m----> 6\u001b[0m     \u001b[38;5;28;01mreturn\u001b[39;00m \u001b[43mTask\u001b[49m\u001b[43m(\u001b[49m\n\u001b[0;32m      7\u001b[0m \u001b[43m        \u001b[49m\u001b[43mdescription\u001b[49m\u001b[38;5;241;43m=\u001b[39;49m\u001b[43m(\u001b[49m\n\u001b[0;32m      8\u001b[0m \u001b[43m            \u001b[49m\u001b[38;5;124;43m\"\u001b[39;49m\u001b[38;5;124;43mConduct a thorough research about the company and find the correct stock market ticker symbol for \u001b[39;49m\u001b[38;5;132;43;01m{company_name}\u001b[39;49;00m\u001b[38;5;124;43m.\u001b[39;49m\u001b[38;5;124;43m\"\u001b[39;49m\n\u001b[0;32m      9\u001b[0m \u001b[43m        \u001b[49m\u001b[43m)\u001b[49m\u001b[43m,\u001b[49m\n\u001b[0;32m     10\u001b[0m \u001b[43m        \u001b[49m\u001b[43magent\u001b[49m\u001b[38;5;241;43m=\u001b[39;49m\u001b[43magent\u001b[49m\u001b[43m,\u001b[49m\n\u001b[0;32m     11\u001b[0m \u001b[43m        \u001b[49m\u001b[43mexpeceted_output_type\u001b[49m\u001b[38;5;241;43m=\u001b[39;49m\u001b[43m(\u001b[49m\n\u001b[0;32m     12\u001b[0m \u001b[43m            \u001b[49m\u001b[38;5;124;43m\"\u001b[39;49m\u001b[38;5;124;43mA string object containing only the ticker symbol for \u001b[39;49m\u001b[38;5;132;43;01m{company_name}\u001b[39;49;00m\u001b[38;5;124;43m.\u001b[39;49m\u001b[38;5;124;43m\"\u001b[39;49m\n\u001b[0;32m     13\u001b[0m \u001b[43m        \u001b[49m\u001b[43m)\u001b[49m\u001b[43m,\u001b[49m\n\u001b[0;32m     14\u001b[0m \u001b[43m        \u001b[49m\u001b[43mcontext\u001b[49m\u001b[38;5;241;43m=\u001b[39;49m\u001b[43mtasks\u001b[49m\u001b[43m,\u001b[49m\n\u001b[0;32m     15\u001b[0m \u001b[43m    \u001b[49m\u001b[43m)\u001b[49m\n",
      "    \u001b[1;31m[... skipping hidden 1 frame]\u001b[0m\n",
      "File \u001b[1;32mc:\\Users\\mttca\\nwuai\\course_materials\\class_work\\projects\\Project_3\\.venv\\Lib\\site-packages\\crewai\\agents\\agent_builder\\base_agent.py:135\u001b[0m, in \u001b[0;36mBaseAgent.process_model_config\u001b[1;34m(cls, values)\u001b[0m\n\u001b[0;32m    132\u001b[0m \u001b[38;5;129m@model_validator\u001b[39m(mode\u001b[38;5;241m=\u001b[39m\u001b[38;5;124m\"\u001b[39m\u001b[38;5;124mbefore\u001b[39m\u001b[38;5;124m\"\u001b[39m)\n\u001b[0;32m    133\u001b[0m \u001b[38;5;129m@classmethod\u001b[39m\n\u001b[0;32m    134\u001b[0m \u001b[38;5;28;01mdef\u001b[39;00m \u001b[38;5;21mprocess_model_config\u001b[39m(\u001b[38;5;28mcls\u001b[39m, values):\n\u001b[1;32m--> 135\u001b[0m     \u001b[38;5;28;01mreturn\u001b[39;00m \u001b[43mprocess_config\u001b[49m\u001b[43m(\u001b[49m\u001b[43mvalues\u001b[49m\u001b[43m,\u001b[49m\u001b[43m \u001b[49m\u001b[38;5;28;43mcls\u001b[39;49m\u001b[43m)\u001b[49m\n",
      "File \u001b[1;32mc:\\Users\\mttca\\nwuai\\course_materials\\class_work\\projects\\Project_3\\.venv\\Lib\\site-packages\\crewai\\utilities\\config.py:19\u001b[0m, in \u001b[0;36mprocess_config\u001b[1;34m(values, model_class)\u001b[0m\n\u001b[0;32m      6\u001b[0m \u001b[38;5;28;01mdef\u001b[39;00m \u001b[38;5;21mprocess_config\u001b[39m(\n\u001b[0;32m      7\u001b[0m     values: Dict[\u001b[38;5;28mstr\u001b[39m, Any], model_class: Type[BaseModel]\n\u001b[0;32m      8\u001b[0m ) \u001b[38;5;241m-\u001b[39m\u001b[38;5;241m>\u001b[39m Dict[\u001b[38;5;28mstr\u001b[39m, Any]:\n\u001b[0;32m      9\u001b[0m \u001b[38;5;250m    \u001b[39m\u001b[38;5;124;03m\"\"\"\u001b[39;00m\n\u001b[0;32m     10\u001b[0m \u001b[38;5;124;03m    Process the config dictionary and update the values accordingly.\u001b[39;00m\n\u001b[0;32m     11\u001b[0m \n\u001b[1;32m   (...)\u001b[0m\n\u001b[0;32m     17\u001b[0m \u001b[38;5;124;03m        Dict[str, Any]: The updated values dictionary.\u001b[39;00m\n\u001b[0;32m     18\u001b[0m \u001b[38;5;124;03m    \"\"\"\u001b[39;00m\n\u001b[1;32m---> 19\u001b[0m     config \u001b[38;5;241m=\u001b[39m \u001b[43mvalues\u001b[49m\u001b[38;5;241;43m.\u001b[39;49m\u001b[43mget\u001b[49m(\u001b[38;5;124m\"\u001b[39m\u001b[38;5;124mconfig\u001b[39m\u001b[38;5;124m\"\u001b[39m, {})\n\u001b[0;32m     20\u001b[0m     \u001b[38;5;28;01mif\u001b[39;00m \u001b[38;5;129;01mnot\u001b[39;00m config:\n\u001b[0;32m     21\u001b[0m         \u001b[38;5;28;01mreturn\u001b[39;00m values\n",
      "\u001b[1;31mAttributeError\u001b[0m: 'tuple' object has no attribute 'get'"
     ]
    }
   ],
   "source": [
    "inputs = {\n",
    "'company_name': 'tesla'\n",
    "}\n",
    "\n",
    "agent_sea = AgentSea()\n",
    "tasks = AgentTasks(\"Test\")\n",
    "ticker_agent = agent_sea.ticker_finder_agent(inputs['company_name'])\n",
    "task = tasks.find_correct_company_ticker(ticker_agent, tasks, inputs['company_name'])\n"
   ]
  },
  {
   "cell_type": "code",
   "execution_count": null,
   "metadata": {},
   "outputs": [],
   "source": [
    "crew = Crew(\n",
    "\t\t\tagents=[ticker_agent], # Automatically created by the @agent decorator\n",
    "\t\t\ttasks=[task], # Automatically created by the @task decorator\n",
    "\t\t\tprocess=Process.sequential,\n",
    "\t\t\tverbose=True,\n",
    "\t\t)"
   ]
  },
  {
   "cell_type": "code",
   "execution_count": null,
   "metadata": {},
   "outputs": [],
   "source": [
    "\n",
    "result = crew.kickoff(inputs=inputs)"
   ]
  }
 ],
 "metadata": {
  "kernelspec": {
   "display_name": ".venv",
   "language": "python",
   "name": "python3"
  },
  "language_info": {
   "codemirror_mode": {
    "name": "ipython",
    "version": 3
   },
   "file_extension": ".py",
   "mimetype": "text/x-python",
   "name": "python",
   "nbconvert_exporter": "python",
   "pygments_lexer": "ipython3",
   "version": "3.11.4"
  }
 },
 "nbformat": 4,
 "nbformat_minor": 2
}
