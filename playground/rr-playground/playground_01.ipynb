{
 "cells": [
  {
   "cell_type": "code",
   "execution_count": 9,
   "metadata": {},
   "outputs": [
    {
     "name": "stdout",
     "output_type": "stream",
     "text": [
      "Current working directory: /Users/robertoreis/Documents/codes/Project_3/playground/rr-playground\n",
      "Python path: ['/Users/robertoreis/anaconda3/envs/ai-project/lib/python310.zip', '/Users/robertoreis/anaconda3/envs/ai-project/lib/python3.10', '/Users/robertoreis/anaconda3/envs/ai-project/lib/python3.10/lib-dynload', '', '/Users/robertoreis/anaconda3/envs/ai-project/lib/python3.10/site-packages', '/Users/robertoreis/anaconda3/envs/ai-project/lib/python3.10/site-packages/setuptools/_vendor', '/Users/robertoreis/Documents/codes/Project_3', '/Users/robertoreis/Documents/codes/Project_3/playground/rr-playground']\n",
      "The Sea of Agents is initializing...\n",
      "please wait.\n"
     ]
    }
   ],
   "source": [
    "import os\n",
    "import sys\n",
    "\n",
    "print(\"Current working directory:\", os.getcwd())\n",
    "print(\"Python path:\", sys.path)\n",
    "\n",
    "# Add the parent directory to the Python path\n",
    "parent_dir = os.path.dirname(os.path.dirname(os.getcwd()))\n",
    "if parent_dir not in sys.path:\n",
    "    sys.path.append(parent_dir)\n",
    "    print(\"Added to Python path:\", parent_dir)\n",
    "\n",
    "# Now try to import AgentSea\n",
    "from agents.agents import AgentSea\n",
    "\n",
    "agent_sea = AgentSea()\n",
    "agent_sea()"
   ]
  },
  {
   "cell_type": "code",
   "execution_count": 10,
   "metadata": {},
   "outputs": [
    {
     "data": {
      "text/plain": [
       "(Agent(role=Stock Twits Research Analyst, goal=To provide the current Sentiment and Message Volume for the {ticker} from https://stocktwits.com/symbol/{ticker}Thoroughly analyze the website to extract the Sentiment and Message Volume.IMPORTANT:\n",
       " - The final output should be a list of JSON objects and must include the Sentiement, Message Volume, and Timestamp in UTC.\n",
       " - Ensure that the timestamp is accurate to the minute.\n",
       " - Make sure that if you cannot find the Sentiment you put 0 for Sentiment.\n",
       " - Make sure that if you cannot find the Message Volume tha tyou put 0 for Message Volume.\n",
       " Example Output:\n",
       " {\n",
       " 'sentiment: {sentiment},\n",
       " 'message_volume: {message_volume},\n",
       " 'timestamp: {timestamp},\n",
       " }\n",
       " , backstory=As the Stock Twits Research Analyst, you are an a Stock Twits scraper and can find Sentiment and Message Volume for any stock tickeron https://stocktwits.com. You are responsible for finding the current Sentiment and Message Volume for the {ticker}.),)"
      ]
     },
     "execution_count": 10,
     "metadata": {},
     "output_type": "execute_result"
    }
   ],
   "source": [
    "#test the stock_twits_agent\n",
    "agent_sea.stock_twits_agent(\"AAPL\")"
   ]
  },
  {
   "cell_type": "code",
   "execution_count": 19,
   "metadata": {},
   "outputs": [
    {
     "ename": "AttributeError",
     "evalue": "'tuple' object has no attribute 'get'",
     "output_type": "error",
     "traceback": [
      "\u001b[0;31m---------------------------------------------------------------------------\u001b[0m",
      "\u001b[0;31mAttributeError\u001b[0m                            Traceback (most recent call last)",
      "Cell \u001b[0;32mIn[19], line 8\u001b[0m\n\u001b[1;32m      6\u001b[0m task_creator \u001b[38;5;241m=\u001b[39m AgentTasks(\u001b[38;5;124m\"\u001b[39m\u001b[38;5;124mAAPL\u001b[39m\u001b[38;5;124m\"\u001b[39m)\n\u001b[1;32m      7\u001b[0m stock_twits_agent \u001b[38;5;241m=\u001b[39m agent_sea\u001b[38;5;241m.\u001b[39mstock_twits_agent(\u001b[38;5;124m\"\u001b[39m\u001b[38;5;124mAAPL\u001b[39m\u001b[38;5;124m\"\u001b[39m)  \u001b[38;5;66;03m# Create the Agent instance\u001b[39;00m\n\u001b[0;32m----> 8\u001b[0m task \u001b[38;5;241m=\u001b[39m \u001b[43mtask_creator\u001b[49m\u001b[38;5;241;43m.\u001b[39;49m\u001b[43msearch_stock_twits_task\u001b[49m\u001b[43m(\u001b[49m\u001b[43mstock_twits_agent\u001b[49m\u001b[43m,\u001b[49m\u001b[43m \u001b[49m\u001b[43m[\u001b[49m\u001b[43m]\u001b[49m\u001b[43m)\u001b[49m\n\u001b[1;32m      9\u001b[0m \u001b[38;5;28mprint\u001b[39m(task)\n\u001b[1;32m     11\u001b[0m \u001b[38;5;66;03m#run the task\u001b[39;00m\n",
      "File \u001b[0;32m~/Documents/codes/Project_3/tasks/tasks.py:8\u001b[0m, in \u001b[0;36mAgentTasks.search_stock_twits_task\u001b[0;34m(self, agent, tasks)\u001b[0m\n\u001b[1;32m      7\u001b[0m \u001b[38;5;28;01mdef\u001b[39;00m \u001b[38;5;21msearch_stock_twits_task\u001b[39m(\u001b[38;5;28mself\u001b[39m, agent: Agent, tasks: \u001b[38;5;28mlist\u001b[39m[Task]) \u001b[38;5;241m-\u001b[39m\u001b[38;5;241m>\u001b[39m Task:\n\u001b[0;32m----> 8\u001b[0m     \u001b[38;5;28;01mreturn\u001b[39;00m \u001b[43mTask\u001b[49m\u001b[43m(\u001b[49m\n\u001b[1;32m      9\u001b[0m \u001b[43m        \u001b[49m\u001b[43mdescription\u001b[49m\u001b[38;5;241;43m=\u001b[39;49m\u001b[43m(\u001b[49m\n\u001b[1;32m     10\u001b[0m \u001b[43m            \u001b[49m\u001b[38;5;124;43mf\u001b[39;49m\u001b[38;5;124;43m\"\u001b[39;49m\u001b[38;5;124;43mSearch for recent Sentiment and Message Volume on https://stocktwits.com related to the stock \u001b[39;49m\u001b[38;5;132;43;01m{\u001b[39;49;00m\u001b[38;5;28;43mself\u001b[39;49m\u001b[38;5;241;43m.\u001b[39;49m\u001b[43mticker\u001b[49m\u001b[38;5;132;43;01m}\u001b[39;49;00m\u001b[38;5;124;43m. \u001b[39;49m\u001b[38;5;124;43m\"\u001b[39;49m\n\u001b[1;32m     11\u001b[0m \u001b[43m        \u001b[49m\u001b[43m)\u001b[49m\u001b[43m,\u001b[49m\n\u001b[1;32m     12\u001b[0m \u001b[43m        \u001b[49m\u001b[43magent\u001b[49m\u001b[38;5;241;43m=\u001b[39;49m\u001b[43magent\u001b[49m\u001b[43m,\u001b[49m\n\u001b[1;32m     13\u001b[0m \u001b[43m        \u001b[49m\u001b[43mexpeceted_output_type\u001b[49m\u001b[38;5;241;43m=\u001b[39;49m\u001b[43m(\u001b[49m\n\u001b[1;32m     14\u001b[0m \u001b[43m            \u001b[49m\u001b[38;5;124;43m\"\u001b[39;49m\u001b[38;5;124;43mA JSON object containing the Sentiment Message Volume and timestamp for the ticker symbol.\u001b[39;49m\u001b[38;5;124;43m\"\u001b[39;49m\n\u001b[1;32m     15\u001b[0m \u001b[43m        \u001b[49m\u001b[43m)\u001b[49m\u001b[43m,\u001b[49m\n\u001b[1;32m     16\u001b[0m \u001b[43m        \u001b[49m\u001b[43mcontext\u001b[49m\u001b[38;5;241;43m=\u001b[39;49m\u001b[43mtasks\u001b[49m\u001b[43m,\u001b[49m\n\u001b[1;32m     17\u001b[0m \u001b[43m        \u001b[49m\u001b[38;5;66;43;03m# output_json=StockTwitsOutput\u001b[39;49;00m\n\u001b[1;32m     18\u001b[0m \u001b[43m    \u001b[49m\u001b[43m)\u001b[49m\n",
      "    \u001b[0;31m[... skipping hidden 1 frame]\u001b[0m\n",
      "File \u001b[0;32m~/anaconda3/envs/ai-project/lib/python3.10/site-packages/crewai/agents/agent_builder/base_agent.py:135\u001b[0m, in \u001b[0;36mBaseAgent.process_model_config\u001b[0;34m(cls, values)\u001b[0m\n\u001b[1;32m    132\u001b[0m \u001b[38;5;129m@model_validator\u001b[39m(mode\u001b[38;5;241m=\u001b[39m\u001b[38;5;124m\"\u001b[39m\u001b[38;5;124mbefore\u001b[39m\u001b[38;5;124m\"\u001b[39m)\n\u001b[1;32m    133\u001b[0m \u001b[38;5;129m@classmethod\u001b[39m\n\u001b[1;32m    134\u001b[0m \u001b[38;5;28;01mdef\u001b[39;00m \u001b[38;5;21mprocess_model_config\u001b[39m(\u001b[38;5;28mcls\u001b[39m, values):\n\u001b[0;32m--> 135\u001b[0m     \u001b[38;5;28;01mreturn\u001b[39;00m \u001b[43mprocess_config\u001b[49m\u001b[43m(\u001b[49m\u001b[43mvalues\u001b[49m\u001b[43m,\u001b[49m\u001b[43m \u001b[49m\u001b[38;5;28;43mcls\u001b[39;49m\u001b[43m)\u001b[49m\n",
      "File \u001b[0;32m~/anaconda3/envs/ai-project/lib/python3.10/site-packages/crewai/utilities/config.py:19\u001b[0m, in \u001b[0;36mprocess_config\u001b[0;34m(values, model_class)\u001b[0m\n\u001b[1;32m      6\u001b[0m \u001b[38;5;28;01mdef\u001b[39;00m \u001b[38;5;21mprocess_config\u001b[39m(\n\u001b[1;32m      7\u001b[0m     values: Dict[\u001b[38;5;28mstr\u001b[39m, Any], model_class: Type[BaseModel]\n\u001b[1;32m      8\u001b[0m ) \u001b[38;5;241m-\u001b[39m\u001b[38;5;241m>\u001b[39m Dict[\u001b[38;5;28mstr\u001b[39m, Any]:\n\u001b[1;32m      9\u001b[0m \u001b[38;5;250m    \u001b[39m\u001b[38;5;124;03m\"\"\"\u001b[39;00m\n\u001b[1;32m     10\u001b[0m \u001b[38;5;124;03m    Process the config dictionary and update the values accordingly.\u001b[39;00m\n\u001b[1;32m     11\u001b[0m \n\u001b[0;32m   (...)\u001b[0m\n\u001b[1;32m     17\u001b[0m \u001b[38;5;124;03m        Dict[str, Any]: The updated values dictionary.\u001b[39;00m\n\u001b[1;32m     18\u001b[0m \u001b[38;5;124;03m    \"\"\"\u001b[39;00m\n\u001b[0;32m---> 19\u001b[0m     config \u001b[38;5;241m=\u001b[39m \u001b[43mvalues\u001b[49m\u001b[38;5;241;43m.\u001b[39;49m\u001b[43mget\u001b[49m(\u001b[38;5;124m\"\u001b[39m\u001b[38;5;124mconfig\u001b[39m\u001b[38;5;124m\"\u001b[39m, {})\n\u001b[1;32m     20\u001b[0m     \u001b[38;5;28;01mif\u001b[39;00m \u001b[38;5;129;01mnot\u001b[39;00m config:\n\u001b[1;32m     21\u001b[0m         \u001b[38;5;28;01mreturn\u001b[39;00m values\n",
      "\u001b[0;31mAttributeError\u001b[0m: 'tuple' object has no attribute 'get'"
     ]
    }
   ],
   "source": [
    "#run the task from tasks.py\n",
    "\n",
    "from tasks.tasks import AgentTasks\n",
    "from crewai import Agent\n",
    "\n",
    "task_creator = AgentTasks(\"AAPL\")\n",
    "stock_twits_agent = agent_sea.stock_twits_agent(\"AAPL\")  # Create the Agent instance\n",
    "task = task_creator.search_stock_twits_task(stock_twits_agent, [])\n",
    "print(task)\n",
    "\n",
    "#run the task\n",
    "task.run()"
   ]
  }
 ],
 "metadata": {
  "kernelspec": {
   "display_name": "ai-project",
   "language": "python",
   "name": "python3"
  },
  "language_info": {
   "codemirror_mode": {
    "name": "ipython",
    "version": 3
   },
   "file_extension": ".py",
   "mimetype": "text/x-python",
   "name": "python",
   "nbconvert_exporter": "python",
   "pygments_lexer": "ipython3",
   "version": "3.10.15"
  }
 },
 "nbformat": 4,
 "nbformat_minor": 2
}
