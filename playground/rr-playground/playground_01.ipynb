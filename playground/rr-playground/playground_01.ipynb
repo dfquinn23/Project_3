{
 "cells": [
  {
   "cell_type": "code",
   "execution_count": 123,
   "metadata": {},
   "outputs": [],
   "source": [
    "import os\n",
    "import sys\n",
    "from dotenv import load_dotenv\n",
    "from crewai import LLM\n",
    "from anthropic import Anthropic\n",
    "import google.generativeai as genai\n",
    "from dotenv import load_dotenv\n",
    "import logging\n",
    "logging.getLogger('opentelemetry').setLevel(logging.ERROR)\n",
    "\n",
    "from tasks.tasks import AgentTasks\n",
    "from crewai import Agent, Crew  # Import Agent from crewai"
   ]
  },
  {
   "cell_type": "code",
   "execution_count": 60,
   "metadata": {},
   "outputs": [
    {
     "name": "stdout",
     "output_type": "stream",
     "text": [
      "Current working directory: /Users/robertoreis/Documents/codes/Project_3/playground/rr-playground\n",
      "Python path: ['/Users/robertoreis/anaconda3/envs/ai-project/lib/python310.zip', '/Users/robertoreis/anaconda3/envs/ai-project/lib/python3.10', '/Users/robertoreis/anaconda3/envs/ai-project/lib/python3.10/lib-dynload', '', '/Users/robertoreis/anaconda3/envs/ai-project/lib/python3.10/site-packages', '/Users/robertoreis/anaconda3/envs/ai-project/lib/python3.10/site-packages/setuptools/_vendor', '/Users/robertoreis/Documents/codes/Project_3', '/Users/robertoreis/Documents/codes/Project_3/playground/rr-playground']\n"
     ]
    }
   ],
   "source": [
    "# Print current working directory and Python path for debugging\n",
    "print(f\"Current working directory: {os.getcwd()}\")\n",
    "print(f\"Python path: {sys.path}\")"
   ]
  },
  {
   "cell_type": "code",
   "execution_count": 61,
   "metadata": {},
   "outputs": [],
   "source": [
    "# Add parent directory to path if needed\n",
    "parent_dir = os.path.dirname(os.path.dirname(os.getcwd()))\n",
    "if parent_dir not in sys.path:\n",
    "    sys.path.append(parent_dir)\n",
    "    print(f\"Added to Python path: {parent_dir}\")"
   ]
  },
  {
   "cell_type": "code",
   "execution_count": 74,
   "metadata": {},
   "outputs": [
    {
     "name": "stdout",
     "output_type": "stream",
     "text": [
      "API Keys after manual loading:\n",
      "Anthropic API Key: sk-a...\n",
      "Google API Key: AIza...\n"
     ]
    }
   ],
   "source": [
    "import os\n",
    "\n",
    "def load_env_manually(path):\n",
    "    with open(path, 'r') as f:\n",
    "        for line in f:\n",
    "            line = line.strip()\n",
    "            if line and not line.startswith('#'):\n",
    "                try:\n",
    "                    key, value = line.split('=', 1)\n",
    "                    os.environ[key.strip()] = value.strip()\n",
    "                except ValueError:\n",
    "                    print(f\"Skipping invalid line: {line}\")\n",
    "\n",
    "dotenv_path = os.path.join(os.getcwd(), '.env')\n",
    "load_env_manually(dotenv_path)\n",
    "\n",
    "# Now check if the variables are loaded\n",
    "anthropic_api_key = os.getenv(\"ANTHROPIC_API_KEY\")\n",
    "google_api_key = os.getenv(\"GEMINI_API_KEY\")\n",
    "\n",
    "print(\"API Keys after manual loading:\")\n",
    "print(f\"Anthropic API Key: {anthropic_api_key[:4] + '...' if anthropic_api_key else 'Not found'}\")\n",
    "print(f\"Google API Key: {google_api_key[:4] + '...' if google_api_key else 'Not found'}\")"
   ]
  },
  {
   "cell_type": "code",
   "execution_count": 75,
   "metadata": {},
   "outputs": [
    {
     "name": "stdout",
     "output_type": "stream",
     "text": [
      "Requirement already satisfied: python-dotenv in /Users/robertoreis/anaconda3/envs/ai-project/lib/python3.10/site-packages (1.0.1)\n"
     ]
    }
   ],
   "source": [
    "!pip install --upgrade python-dotenv"
   ]
  },
  {
   "cell_type": "code",
   "execution_count": 76,
   "metadata": {},
   "outputs": [
    {
     "name": "stdout",
     "output_type": "stream",
     "text": [
      "API Keys after using load_dotenv():\n",
      "Anthropic API Key: sk-a...\n",
      "Google API Key: AIza...\n"
     ]
    }
   ],
   "source": [
    "from dotenv import load_dotenv\n",
    "\n",
    "dotenv_path = os.path.join(os.getcwd(), '.env')\n",
    "load_dotenv(dotenv_path)\n",
    "\n",
    "# Check if the variables are loaded\n",
    "anthropic_api_key = os.getenv(\"ANTHROPIC_API_KEY\")\n",
    "google_api_key = os.getenv(\"GEMINI_API_KEY\")\n",
    "\n",
    "print(\"API Keys after using load_dotenv():\")\n",
    "print(f\"Anthropic API Key: {anthropic_api_key[:4] + '...' if anthropic_api_key else 'Not found'}\")\n",
    "print(f\"Google API Key: {google_api_key[:4] + '...' if google_api_key else 'Not found'}\")"
   ]
  },
  {
   "cell_type": "code",
   "execution_count": 77,
   "metadata": {},
   "outputs": [
    {
     "name": "stdout",
     "output_type": "stream",
     "text": [
      "Anthropic and Google Generative AI clients configured successfully!\n"
     ]
    }
   ],
   "source": [
    "from anthropic import Anthropic\n",
    "import google.generativeai as genai\n",
    "\n",
    "# Set up Anthropic client\n",
    "anthropic = Anthropic(api_key=anthropic_api_key)\n",
    "\n",
    "# Set up Google Generative AI\n",
    "genai.configure(api_key=google_api_key)\n",
    "\n",
    "print(\"Anthropic and Google Generative AI clients configured successfully!\")"
   ]
  },
  {
   "cell_type": "code",
   "execution_count": 78,
   "metadata": {},
   "outputs": [
    {
     "name": "stdout",
     "output_type": "stream",
     "text": [
      "LLM configured successfully!\n"
     ]
    }
   ],
   "source": [
    "from crewai import LLM\n",
    "\n",
    "def setup_llm():\n",
    "    if not google_api_key:\n",
    "        raise ValueError(\"GEMINI_API_KEY is not set in environment variables. Please check your .env file.\")\n",
    "    \n",
    "    try:\n",
    "        llm = LLM(model='gemini-pro', api_key=google_api_key)\n",
    "        print(\"LLM configured successfully!\")\n",
    "        return llm\n",
    "    except Exception as e:\n",
    "        print(f\"Error configuring LLM: {str(e)}\")\n",
    "        raise\n",
    "\n",
    "# Test LLM setup\n",
    "llm = setup_llm()"
   ]
  },
  {
   "cell_type": "code",
   "execution_count": 82,
   "metadata": {},
   "outputs": [
    {
     "name": "stdout",
     "output_type": "stream",
     "text": [
      "LLM configured successfully!\n",
      "LLM type: <class 'crewai.llm.LLM'>\n",
      "LLM attributes: ['__class__', '__delattr__', '__dict__', '__dir__', '__doc__', '__eq__', '__format__', '__ge__', '__getattribute__', '__gt__', '__hash__', '__init__', '__init_subclass__', '__le__', '__lt__', '__module__', '__ne__', '__new__', '__reduce__', '__reduce_ex__', '__repr__', '__setattr__', '__sizeof__', '__str__', '__subclasshook__', '__weakref__', 'api_key', 'api_version', 'base_url', 'call', 'callbacks', 'frequency_penalty', 'get_context_window_size', 'kwargs', 'logit_bias', 'logprobs', 'max_completion_tokens', 'max_tokens', 'model', 'n', 'presence_penalty', 'response_format', 'seed', 'stop', 'supports_function_calling', 'supports_stop_words', 'temperature', 'timeout', 'top_logprobs', 'top_p']\n"
     ]
    }
   ],
   "source": [
    "from crewai import LLM\n",
    "\n",
    "def setup_llm():\n",
    "    if not google_api_key:\n",
    "        raise ValueError(\"GEMINI_API_KEY is not set in environment variables. Please check your .env file.\")\n",
    "    \n",
    "    try:\n",
    "        llm = LLM(provider=\"google\", model='gemini-pro', api_key=google_api_key)\n",
    "        print(\"LLM configured successfully!\")\n",
    "        return llm\n",
    "    except Exception as e:\n",
    "        print(f\"Error configuring LLM: {str(e)}\")\n",
    "        raise\n",
    "\n",
    "# Test LLM setup\n",
    "llm = setup_llm()\n",
    "\n",
    "# Print LLM details\n",
    "print(f\"LLM type: {type(llm)}\")\n",
    "print(f\"LLM attributes: {dir(llm)}\")"
   ]
  },
  {
   "cell_type": "code",
   "execution_count": null,
   "metadata": {},
   "outputs": [],
   "source": []
  },
  {
   "cell_type": "code",
   "execution_count": 86,
   "metadata": {},
   "outputs": [
    {
     "name": "stdout",
     "output_type": "stream",
     "text": [
      "Starting Gemini test...\n",
      "Sending prompt to Gemini...\n",
      "Test response:\n",
      "**Current State of the Stock Market (As of February 28, 2023)**\n",
      "\n",
      "**Major Indices:**\n",
      "\n",
      "* **S&P 500 Index:** 4,012.32, down 0.3% year-to-date (YTD)\n",
      "* **Dow Jones Industrial Average:** 33,153.91, up 0.2% YTD\n",
      "* **Nasdaq Composite Index:** 11,492.30, down 10.0% YTD\n",
      "\n",
      "**Performance:**\n",
      "\n",
      "After a strong start to the year, the stock market has experienced some volatility in recent weeks. The S&P 500 is down slightly YTD, while the Nasdaq Composite has declined more significantly due to weakness in technology stocks.\n",
      "\n",
      "**Key Drivers:**\n",
      "\n",
      "* **Interest rates:** The Federal Reserve has been raising interest rates to combat inflation. This has increased borrowing costs for businesses and consumers, weighing on economic growth.\n",
      "* **Economic outlook:** Economic indicators have been mixed, raising concerns about a potential recession.\n",
      "* **Geopolitical tensions:** The ongoing war in Ukraine and tensions with China have contributed to uncertainty in the market.\n",
      "\n",
      "**Sector Performance:**\n",
      "\n",
      "* Energy stocks have outperformed, driven by rising oil and gas prices.\n",
      "* Technology stocks have struggled, as rising interest rates have hurt growth companies.\n",
      "* Healthcare and consumer staples stocks have provided some stability.\n",
      "\n",
      "**Outlook:**\n",
      "\n",
      "The market outlook remains uncertain, with analysts expecting continued volatility. Key factors to watch include:\n",
      "\n",
      "* **Inflation:** If inflation persists, the Fed may need to raise interest rates more aggressively.\n",
      "* **Economic growth:** The strength of the economy will impact corporate earnings and market sentiment.\n",
      "* **Geopolitical events:** Developments in Ukraine or tensions with China could further destabilize the market.\n",
      "\n",
      "Overall, the stock market is in a state of transition, with investors cautious amid rising interest rates and economic uncertainty. Selective investing and a long-term perspective are advised.\n",
      "\n",
      "Gemini Test Successful\n"
     ]
    }
   ],
   "source": [
    "import google.generativeai as genai\n",
    "\n",
    "def setup_gemini():\n",
    "    genai.configure(api_key=google_api_key)\n",
    "    model = genai.GenerativeModel('gemini-pro')\n",
    "    return model\n",
    "\n",
    "# Set up Gemini model\n",
    "gemini_model = setup_gemini()\n",
    "\n",
    "def test_gemini_response(model):\n",
    "    try:\n",
    "        prompt = \"What is the current state of the stock market? Provide a brief analysis.\"\n",
    "        print(\"Sending prompt to Gemini...\")\n",
    "        response = model.generate_content(prompt)\n",
    "        print(\"Test response:\")\n",
    "        print(response.text)\n",
    "        return True\n",
    "    except Exception as e:\n",
    "        print(f\"Error testing Gemini: {str(e)}\")\n",
    "        print(\"Traceback:\")\n",
    "        print(traceback.format_exc())\n",
    "        return False\n",
    "\n",
    "# Run the test\n",
    "print(\"Starting Gemini test...\")\n",
    "success = test_gemini_response(gemini_model)\n",
    "print(f\"\\nGemini Test {'Successful' if success else 'Failed'}\")"
   ]
  },
  {
   "cell_type": "code",
   "execution_count": 125,
   "metadata": {},
   "outputs": [],
   "source": [
    "from crewai import LLM\n",
    "\n",
    "llm = LLM(provider=\"anthropic\", model=\"claude-3-opus-20240229\", api_key=anthropic_api_key)"
   ]
  },
  {
   "cell_type": "code",
   "execution_count": null,
   "metadata": {},
   "outputs": [],
   "source": []
  },
  {
   "cell_type": "code",
   "execution_count": 110,
   "metadata": {},
   "outputs": [
    {
     "name": "stdout",
     "output_type": "stream",
     "text": [
      "Anthropic API Key: sk-an...\n"
     ]
    }
   ],
   "source": [
    "import os\n",
    "print(f\"Anthropic API Key: {os.getenv('ANTHROPIC_API_KEY')[:5]}...\")"
   ]
  },
  {
   "cell_type": "code",
   "execution_count": 126,
   "metadata": {},
   "outputs": [
    {
     "name": "stdout",
     "output_type": "stream",
     "text": [
      "[TextBlock(text='The capital of France is Paris.', type='text')]\n"
     ]
    }
   ],
   "source": [
    "from anthropic import Anthropic, HUMAN_PROMPT, AI_PROMPT\n",
    "\n",
    "client = Anthropic(api_key=os.getenv(\"ANTHROPIC_API_KEY\"))\n",
    "\n",
    "try:\n",
    "    message = client.messages.create(\n",
    "        model=\"claude-3-opus-20240229\",\n",
    "        max_tokens=300,\n",
    "        messages=[\n",
    "            {\"role\": \"user\", \"content\": \"What is the capital of France?\"}\n",
    "        ]\n",
    "    )\n",
    "    print(message.content)\n",
    "except Exception as e:\n",
    "    print(f\"Error: {str(e)}\")"
   ]
  },
  {
   "cell_type": "code",
   "execution_count": 127,
   "metadata": {},
   "outputs": [],
   "source": [
    "from crewai import Agent, Task, Crew\n",
    "from anthropic import Anthropic\n",
    "import os\n",
    "\n",
    "class CustomAgent(Agent):\n",
    "    def get_anthropic_client(self):\n",
    "        return Anthropic(api_key=os.getenv(\"ANTHROPIC_API_KEY\"))\n",
    "\n",
    "    def get_anthropic_model(self):\n",
    "        return \"claude-3-opus-20240229\"\n",
    "\n",
    "    def execute_task(self, task, context, tools):\n",
    "        prompt = f\"\"\"\n",
    "        Role: {self.role}\n",
    "        Goal: {self.goal}\n",
    "        Backstory: {self.backstory}\n",
    "\n",
    "        Task: {task.description}\n",
    "        Context: {context}\n",
    "\n",
    "        Please complete the task based on the given information.\n",
    "        \"\"\"\n",
    "        \n",
    "        try:\n",
    "            client = self.get_anthropic_client()\n",
    "            response = client.messages.create(\n",
    "                model=self.get_anthropic_model(),\n",
    "                max_tokens=1000,\n",
    "                messages=[{\"role\": \"user\", \"content\": prompt}]\n",
    "            )\n",
    "            # Extract the text content from the response\n",
    "            content = response.content\n",
    "            if isinstance(content, list):\n",
    "                # If the content is a list of blocks, join them into a single string\n",
    "                return ' '.join(block.text for block in content if hasattr(block, 'text'))\n",
    "            elif isinstance(content, str):\n",
    "                # If the content is already a string, return it directly\n",
    "                return content\n",
    "            else:\n",
    "                # If the content is in an unexpected format, convert it to a string\n",
    "                return str(content)\n",
    "        except Exception as e:\n",
    "            print(f\"Error during API call: {str(e)}\")\n",
    "            return \"Error occurred while processing the task.\"\n"
   ]
  },
  {
   "cell_type": "code",
   "execution_count": null,
   "metadata": {},
   "outputs": [],
   "source": []
  },
  {
   "cell_type": "code",
   "execution_count": 128,
   "metadata": {},
   "outputs": [
    {
     "name": "stdout",
     "output_type": "stream",
     "text": [
      "Here is a brief summary of the current weather in New York City:\n",
      "\n",
      "Today in New York City, it is partly cloudy with a high temperature of around 72°F (22°C) and a low of 61°F (16°C). Winds are light out of the northwest at 5 to 10 mph. Humidity is moderate around 50%. There is a 20% chance of a passing shower this afternoon, otherwise conditions will remain partly cloudy throughout the day. Temperatures are seasonable for mid-May in New York City.\n"
     ]
    }
   ],
   "source": [
    "# Create an agent using the custom Agent class\n",
    "simple_agent = CustomAgent(\n",
    "    role='Simple Analyst',\n",
    "    goal='Perform a simple analysis',\n",
    "    backstory=\"You are an analyst who provides simple information.\",\n",
    "    verbose=True\n",
    ")\n",
    "\n",
    "# Create a task\n",
    "simple_task = Task(\n",
    "    description=\"Provide a brief summary of the current weather in New York City.\",\n",
    "    expected_output=\"A short paragraph describing the current weather conditions in New York City.\",\n",
    "    agent=simple_agent\n",
    ")\n",
    "\n",
    "# Create a crew\n",
    "simple_crew = Crew(\n",
    "    agents=[simple_agent],\n",
    "    tasks=[simple_task],\n",
    "    verbose=True\n",
    ")\n",
    "\n",
    "# Run the crew\n",
    "try:\n",
    "    result = simple_crew.kickoff()\n",
    "    print(result)\n",
    "except Exception as e:\n",
    "    print(f\"Error during crew execution: {str(e)}\")"
   ]
  },
  {
   "cell_type": "code",
   "execution_count": null,
   "metadata": {},
   "outputs": [],
   "source": []
  },
  {
   "cell_type": "code",
   "execution_count": 129,
   "metadata": {},
   "outputs": [],
   "source": [
    "from crewai import Agent\n",
    "from anthropic import Anthropic\n",
    "import os\n",
    "\n",
    "class CustomAgent(Agent):\n",
    "    def get_anthropic_client(self):\n",
    "        return Anthropic(api_key=os.getenv(\"ANTHROPIC_API_KEY\"))\n",
    "\n",
    "    def get_anthropic_model(self):\n",
    "        return \"claude-3-opus-20240229\"\n",
    "\n",
    "    def execute_task(self, task, context, tools):\n",
    "        prompt = f\"\"\"\n",
    "        Role: {self.role}\n",
    "        Goal: {self.goal}\n",
    "        Backstory: {self.backstory}\n",
    "\n",
    "        Task: {task.description}\n",
    "        Context: {context}\n",
    "\n",
    "        Please complete the task based on the given information.\n",
    "        Provide the output in the format specified in the task's expected_output_type.\n",
    "        \"\"\"\n",
    "        \n",
    "        try:\n",
    "            client = self.get_anthropic_client()\n",
    "            response = client.messages.create(\n",
    "                model=self.get_anthropic_model(),\n",
    "                max_tokens=1000,\n",
    "                messages=[{\"role\": \"user\", \"content\": prompt}]\n",
    "            )\n",
    "            content = response.content\n",
    "            if isinstance(content, list):\n",
    "                return ' '.join(block.text for block in content if hasattr(block, 'text'))\n",
    "            elif isinstance(content, str):\n",
    "                return content\n",
    "            else:\n",
    "                return str(content)\n",
    "        except Exception as e:\n",
    "            print(f\"Error during API call: {str(e)}\")\n",
    "            return \"Error occurred while processing the task.\""
   ]
  },
  {
   "cell_type": "code",
   "execution_count": null,
   "metadata": {},
   "outputs": [],
   "source": []
  },
  {
   "cell_type": "code",
   "execution_count": 147,
   "metadata": {},
   "outputs": [
    {
     "name": "stdout",
     "output_type": "stream",
     "text": [
      "Result: [TextBlock(text='To fetch the current sentiment and message volume data for AAPL from StockTwits, I\\'ll use their API. Here\\'s the Python code to accomplish this:\\n\\n```python\\nimport requests\\nimport json\\nfrom datetime import datetime\\n\\ndef get_stocktwits_data(symbol):\\n    url = f\"https://api.stocktwits.com/api/2/streams/symbol/{symbol}.json\"\\n    response = requests.get(url)\\n    \\n    if response.status_code == 200:\\n        data = json.loads(response.text)\\n        sentiment = data[\\'sentiment\\'][\\'basic\\']\\n        message_volume = data[\\'message_volume\\']\\n        timestamp = datetime.now().strftime(\"%Y-%m-%d %H:%M:%S\")\\n        \\n        result = {\\n            \"symbol\": symbol,\\n            \"sentiment\": sentiment,\\n            \"message_volume\": message_volume,\\n            \"timestamp\": timestamp\\n        }\\n        \\n        return json.dumps(result, indent=2)\\n    else:\\n        return f\"Error fetching data for {symbol}. Status code: {response.status_code}\"\\n\\n# Fetch data for AAPL\\nprint(get_stocktwits_data(\"AAPL\"))\\n```\\n\\nThis script does the following:\\n\\n1. It imports the necessary libraries: `', type='text')]\n"
     ]
    }
   ],
   "source": [
    "import os\n",
    "from anthropic import Anthropic\n",
    "\n",
    "# Ensure your Anthropic API key is set in the environment variables\n",
    "anthropic_api_key = os.getenv(\"ANTHROPIC_API_KEY\")\n",
    "if not anthropic_api_key:\n",
    "    raise ValueError(\"ANTHROPIC_API_KEY is not set in environment variables\")\n",
    "\n",
    "# Initialize the Anthropic client\n",
    "client = Anthropic(api_key=anthropic_api_key)\n",
    "\n",
    "# Define the task\n",
    "task_description = \"\"\"\n",
    "As a Stock Twits Research Analyst, your goal is to provide accurate sentiment and message volume data for stocks from StockTwits.\n",
    "Your task is to fetch the current Sentiment and Message Volume for AAPL from StockTwits.\n",
    "The output should be a JSON object containing sentiment, message volume, and timestamp.\n",
    "\"\"\"\n",
    "\n",
    "try:\n",
    "    # Make the API call using the Messages API\n",
    "    message = client.messages.create(\n",
    "        model=\"claude-3-opus-20240229\",\n",
    "        max_tokens=300,\n",
    "        messages=[\n",
    "            {\"role\": \"user\", \"content\": task_description}\n",
    "        ]\n",
    "    )\n",
    "    \n",
    "    # Print the response\n",
    "    print(\"Result:\", message.content)\n",
    "except Exception as e:\n",
    "    print(f\"An error occurred: {str(e)}\")\n",
    "    import traceback\n",
    "    traceback.print_exc()"
   ]
  }
 ],
 "metadata": {
  "kernelspec": {
   "display_name": "ai-project",
   "language": "python",
   "name": "python3"
  },
  "language_info": {
   "codemirror_mode": {
    "name": "ipython",
    "version": 3
   },
   "file_extension": ".py",
   "mimetype": "text/x-python",
   "name": "python",
   "nbconvert_exporter": "python",
   "pygments_lexer": "ipython3",
   "version": "3.10.15"
  }
 },
 "nbformat": 4,
 "nbformat_minor": 2
}
