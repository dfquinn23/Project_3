{
 "cells": [
  {
   "cell_type": "code",
   "execution_count": 20,
   "metadata": {},
   "outputs": [
    {
     "data": {
      "text/plain": [
       "True"
      ]
     },
     "execution_count": 20,
     "metadata": {},
     "output_type": "execute_result"
    }
   ],
   "source": [
    "# Dependencies\n",
    "import warnings\n",
    "import os\n",
    "from dotenv import load_dotenv\n",
    "from crewai import Agent, Task, Crew\n",
    "from crewai_tools import SerperDevTool, ScrapeWebsiteTool\n",
    "from pydantic import BaseModel\n",
    "import openai\n",
    "import yfinance as yf\n",
    "\n",
    "# Load environment variables from .env file\n",
    "load_dotenv()"
   ]
  },
  {
   "cell_type": "code",
   "execution_count": 21,
   "metadata": {},
   "outputs": [],
   "source": [
    "# Get API keys\n",
    "OPENAI_API_KEY = os.getenv(\"OPENAI_API_KEY\")\n",
    "OPENAI_MODEL_NAME = os.getenv(\"OPENAI_MODEL_NAME\", \"text-davinci-003\")\n",
    "SERPER_API_KEY = os.getenv(\"SERPER_API_KEY\")\n",
    "\n",
    "# Set API keys\n",
    "openai.api_key = OPENAI_API_KEY"
   ]
  },
  {
   "cell_type": "code",
   "execution_count": 22,
   "metadata": {},
   "outputs": [],
   "source": [
    "# Chatbot Agent\n",
    "class ChatbotAgent(Agent):\n",
    "    def __init__(self):\n",
    "        super().__init__(\n",
    "            role=\"Chatbot Agent\",\n",
    "            goal=\"Collect the company name from the user and validate its stock ticker\",\n",
    "            backstory=\"You are a friendly chatbot that helps users find information about companies.\",\n",
    "            verbose=True,\n",
    "            allow_delegation=False,\n",
    "        )\n",
    "\n",
    "    def get_stock_ticker(self, company_name: str):\n",
    "        try:\n",
    "            ticker = yf.Ticker(company_name).info['symbol']\n",
    "            return ticker\n",
    "        except Exception as e:\n",
    "            print(f\"Error occurred while retrieving the stock ticker: {e}\")\n",
    "            return None\n",
    "\n",
    "chatbot_agent = ChatbotAgent()"
   ]
  },
  {
   "cell_type": "code",
   "execution_count": 23,
   "metadata": {},
   "outputs": [],
   "source": [
    "# News Retrieval Agent\n",
    "news_tool = SerperDevTool(api_key=SERPER_API_KEY)\n",
    "news_retrieval_agent = Agent(\n",
    "    role=\"News Retrieval Agent\",\n",
    "    goal=\"Fetch the latest news about the company\",\n",
    "    backstory=\"You collect the most recent news articles related to a company for sentiment analysis.\",\n",
    "    verbose=True,\n",
    "    tools=[news_tool],\n",
    ")\n"
   ]
  },
  {
   "cell_type": "code",
   "execution_count": 24,
   "metadata": {},
   "outputs": [],
   "source": [
    "# Sentiment Analysis Agent\n",
    "class SentimentAnalysisAgent(Agent):\n",
    "    def __init__(self):\n",
    "        super().__init__(\n",
    "            role=\"Sentiment Analysis Agent\",\n",
    "            goal=\"Analyze the sentiment of recent news articles for a given company\",\n",
    "            backstory=\"You are responsible for determining if the news sentiment about a company is positive, neutral, or negative.\",\n",
    "            verbose=True,\n",
    "            allow_delegation=False,\n",
    "        )\n",
    "\n",
    "    def analyze_sentiment(self, articles):\n",
    "        try:\n",
    "            analysis_results = []\n",
    "            for article in articles:\n",
    "                response = openai.Completion.create(\n",
    "                    engine=OPENAI_MODEL_NAME,\n",
    "                    prompt=f\"Analyze the sentiment of the following text: \\n{article}\",\n",
    "                    max_tokens=10,\n",
    "                )\n",
    "                sentiment = response.choices[0].text.strip()\n",
    "                analysis_results.append(sentiment)\n",
    "            return analysis_results\n",
    "        except Exception as e:\n",
    "            print(f\"Error occurred during sentiment analysis: {e}\")\n",
    "            return []\n",
    "\n",
    "sentiment_analysis_agent = SentimentAnalysisAgent()\n"
   ]
  },
  {
   "cell_type": "code",
   "execution_count": 25,
   "metadata": {},
   "outputs": [],
   "source": [
    "# Define Recommendation Agent\n",
    "class RecommendationAgent(Agent):\n",
    "    def __init__(self):\n",
    "        super().__init__(\n",
    "            role=\"Recommendation Agent\",\n",
    "            goal=\"Provide an investment recommendation based on the sentiment analysis results\",\n",
    "            backstory=\"You provide a recommendation to the user based on the sentiment analysis of the company's recent news articles.\",\n",
    "            verbose=True,\n",
    "            allow_delegation=False,\n",
    "        )\n",
    "\n",
    "    def generate_recommendation(self, sentiment_scores):\n",
    "        try:\n",
    "            positive_count = sentiment_scores.count(\"positive\")\n",
    "            negative_count = sentiment_scores.count(\"negative\")\n",
    "            if positive_count > negative_count:\n",
    "                return \"Positive news sentiment—consider investment.\"\n",
    "            elif negative_count > positive_count:\n",
    "                return \"Negative news sentiment—exercise caution.\"\n",
    "            else:\n",
    "                return \"Mixed sentiment—recommend further investigation.\"\n",
    "        except Exception as e:\n",
    "            print(f\"Error occurred during recommendation generation: {e}\")\n",
    "            return \"Unable to generate recommendation.\"\n",
    "\n",
    "recommendation_agent = RecommendationAgent()\n"
   ]
  },
  {
   "cell_type": "code",
   "execution_count": 26,
   "metadata": {},
   "outputs": [],
   "source": [
    "# Tasks\n",
    "class NewsArticles(BaseModel):\n",
    "    articles: list[str]\n",
    "\n",
    "retrieve_news_task = Task(\n",
    "    description=\"Fetch recent financial news articles about {company_name}\",\n",
    "    expected_output=\"A list of recent news articles.\",\n",
    "    output_json=NewsArticles,\n",
    "    agent=news_retrieval_agent,\n",
    "    tools=[news_tool],\n",
    ")\n",
    "\n",
    "sentiment_analysis_task = Task(\n",
    "    description=\"Analyze the sentiment of the news articles for {company_name}\",\n",
    "    expected_output=\"A list of sentiment analysis results.\",\n",
    "    agent=sentiment_analysis_agent,\n",
    ")\n",
    "\n",
    "recommendation_task = Task(\n",
    "    description=\"Provide an investment recommendation based on the sentiment analysis results\", \n",
    "    expected_output=\"An investment recommendation for {company_name}\",\n",
    "    agent=recommendation_agent,\n",
    ")"
   ]
  },
  {
   "cell_type": "code",
   "execution_count": 27,
   "metadata": {},
   "outputs": [
    {
     "name": "stderr",
     "output_type": "stream",
     "text": [
      "2024-10-24 09:54:32,480 - 140704492328576 - __init__.py-__init__:538 - WARNING: Overriding of current TracerProvider is not allowed\n"
     ]
    }
   ],
   "source": [
    "# Define the Crew and Assign Tasks\n",
    "financial_analysis_crew = Crew(\n",
    "    agents=[chatbot_agent, news_retrieval_agent, sentiment_analysis_agent, recommendation_agent],\n",
    "    tasks=[retrieve_news_task, sentiment_analysis_task, recommendation_task],\n",
    "    verbose=True,\n",
    ")\n"
   ]
  },
  {
   "cell_type": "code",
   "execution_count": 28,
   "metadata": {},
   "outputs": [
    {
     "name": "stderr",
     "output_type": "stream",
     "text": [
      "2024-10-24 09:54:33,777 - 140704492328576 - quote.py-quote:589 - ERROR: 404 Client Error: Not Found for url: https://query2.finance.yahoo.com/v10/finance/quoteSummary/TESLA?modules=financialData%2CquoteType%2CdefaultKeyStatistics%2CassetProfile%2CsummaryDetail&corsDomain=finance.yahoo.com&formatted=false&symbol=TESLA&crumb=i9feaweny0S\n"
     ]
    },
    {
     "name": "stdout",
     "output_type": "stream",
     "text": [
      "Error occurred while retrieving the stock ticker: 'symbol'\n",
      "Invalid company name. Please try again.\n"
     ]
    }
   ],
   "source": [
    "# Initiate the Process\n",
    "company_name = \"TSLA\"\n",
    "stock_ticker = chatbot_agent.get_stock_ticker(company_name)\n",
    "if stock_ticker:\n",
    "    print(f\"Stock ticker for {company_name} is {stock_ticker}\")\n",
    "    result = financial_analysis_crew.kickoff(inputs={\"company_name\": company_name})\n",
    "else:\n",
    "    print(\"Invalid company name. Please try again.\")"
   ]
  }
 ],
 "metadata": {
  "kernelspec": {
   "display_name": "p3",
   "language": "python",
   "name": "python3"
  },
  "language_info": {
   "codemirror_mode": {
    "name": "ipython",
    "version": 3
   },
   "file_extension": ".py",
   "mimetype": "text/x-python",
   "name": "python",
   "nbconvert_exporter": "python",
   "pygments_lexer": "ipython3",
   "version": "3.10.15"
  }
 },
 "nbformat": 4,
 "nbformat_minor": 2
}
