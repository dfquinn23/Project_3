{
 "cells": [
  {
   "cell_type": "code",
   "execution_count": 2,
   "metadata": {},
   "outputs": [],
   "source": [
    "import warnings\n",
    "warnings.filterwarnings('ignore')\n",
    "\n",
    "from crewai import Agent, Task, Crew, Process\n",
    "import os\n",
    "from dotenv import load_dotenv\n",
    "\n",
    "OPENAI_API_KEY = os.getenv(\"OPENAI_API_KEY\")\n",
    "SERPER_API_KEY = os.getenv(\"SERPER_API_KEY\")\n",
    "os.environ[\"OPENAI_MODEL_NAME\"]='gpt-4-turbo'\n",
    "\n",
    "from crewai_tools import ScrapeWebsiteTool, SerperDevTool\n",
    "\n",
    "#search_tool = SerperDevTool()\n",
    "#scrape_tool = ScrapeWebsiteTool()\n"
   ]
  },
  {
   "cell_type": "markdown",
   "metadata": {},
   "source": [
    "#Create Agent, Create Tasks, Create/Implement Tools\n",
    "Agent 1 will be a chatbot. It will take a stock name or ticker, time frame, then return either the name or the ticker to confirm via Chat GPT\n",
    "Agent 1 will then pass the ticker and timeframe to Agent 2"
   ]
  },
  {
   "cell_type": "code",
   "execution_count": 3,
   "metadata": {},
   "outputs": [],
   "source": [
    "#Chatbot_Agent will take the ticker, company,. date range info from the user in later\n",
    "# version - here, these will be encoded\n",
    "\n",
    "chatbot_agent = Agent(\n",
    "    role = \"chatbot\",\n",
    "    goal = \"Take the user's input, which will be either a company name or \"\n",
    "        \"the company's stock ticker, as well as the date range they want to search for.\",\n",
    "    backstory= \"You work in the front lines of customer service. Our customers \"\n",
    "        \"come to you when they want to obtain our company's sentiment analysis \"\n",
    "        \"for various stocks over s specific date range. You pride yourself on \" \n",
    "        \"being fast, courteous, and accurate.\",\n",
    "    verbose=True,\n",
    "    allow_delegation=True,\n",
    "    memory=True\n",
    ")"
   ]
  },
  {
   "cell_type": "code",
   "execution_count": 4,
   "metadata": {},
   "outputs": [],
   "source": [
    "chatbot_task = Task(\n",
    "    description= \"Take either a company name or its ticker from the user, as well a date range for the search. If they \" \n",
    "        \"provide a ticker, confirm the input by returning the name of the company. \" \n",
    "        \"If they provide the company, confirm the input by returning the ticker.\" \n",
    "        \"Also, confirm the date range.\",\n",
    "    expected_output=(\"A simple conversation that confirms the user's choices of {ticker}, {company}, and {dates}\"),\n",
    "    agent = chatbot_agent\n",
    "    )\n"
   ]
  },
  {
   "cell_type": "code",
   "execution_count": 5,
   "metadata": {},
   "outputs": [],
   "source": [
    "from langchain_openai import ChatOpenAI\n",
    "\n",
    "manager_llm = ChatOpenAI(model_name=\"gpt-4-turbo\")\n",
    "\n",
    "chatbot_crew = Crew(\n",
    "    agents = [chatbot_agent],\n",
    "    tasks=[chatbot_task],\n",
    "    manager_llm = manager_llm,\n",
    "    process=Process.sequential,\n",
    "    verbose=True\n",
    ")"
   ]
  },
  {
   "cell_type": "code",
   "execution_count": 6,
   "metadata": {},
   "outputs": [],
   "source": [
    "user_input = {\n",
    "    \"company\": \"Apple\",\n",
    "    \"ticker\": \"AAPL\",\n",
    "    \"dates\": \"2024-10-01 to 2024-10-23\"\n",
    "}"
   ]
  },
  {
   "cell_type": "code",
   "execution_count": 7,
   "metadata": {},
   "outputs": [
    {
     "name": "stdout",
     "output_type": "stream",
     "text": [
      "\u001b[1m\u001b[95m# Agent:\u001b[00m \u001b[1m\u001b[92mchatbot\u001b[00m\n",
      "\u001b[95m## Task:\u001b[00m \u001b[92mTake either a company name or its ticker from the user, as well a date range for the search. If they provide a ticker, confirm the input by returning the name of the company. If they provide the company, confirm the input by returning the ticker.Also, confirm the date range.\u001b[00m\n",
      "\n",
      "\n",
      "\u001b[1m\u001b[95m# Agent:\u001b[00m \u001b[1m\u001b[92mchatbot\u001b[00m\n",
      "\u001b[95m## Final Answer:\u001b[00m \u001b[92m\n",
      "I have confirmed that you're interested in a sentiment analysis for Apple Inc., whose stock ticker is AAPL. You've specified the date range from October 1, 2024, to October 23, 2024. Is everything correct?\u001b[00m\n",
      "\n",
      "\n"
     ]
    }
   ],
   "source": [
    "#chatbot_task.input = user_input\n",
    "result = chatbot_crew.kickoff(user_input)\n",
    "\n",
    "#print(f\"Chatbot Response: {result.output.raw}\")"
   ]
  }
 ],
 "metadata": {
  "kernelspec": {
   "display_name": "dev",
   "language": "python",
   "name": "python3"
  },
  "language_info": {
   "codemirror_mode": {
    "name": "ipython",
    "version": 3
   },
   "file_extension": ".py",
   "mimetype": "text/x-python",
   "name": "python",
   "nbconvert_exporter": "python",
   "pygments_lexer": "ipython3",
   "version": "3.10.14"
  }
 },
 "nbformat": 4,
 "nbformat_minor": 2
}
