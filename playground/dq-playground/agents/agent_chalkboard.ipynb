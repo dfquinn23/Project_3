{
 "cells": [
  {
   "cell_type": "code",
   "execution_count": 11,
   "metadata": {},
   "outputs": [],
   "source": [
    "import warnings\n",
    "warnings.filterwarnings('ignore')\n",
    "\n",
    "from crewai import Agent, Task, Crew, Process, LLM\n",
    "import os\n",
    "from dotenv import load_dotenv\n",
    "\n",
    "OPENAI_API_KEY = os.getenv(\"OPENAI_API_KEY\")\n",
    "SERPER_API_KEY = os.getenv(\"SERPER_API_KEY\")\n",
    "os.environ[\"OPENAI_MODEL_NAME\"]='gpt-4-turbo'\n",
    "\n",
    "from crewai_tools import ScrapeWebsiteTool, SerperDevTool\n",
    "\n",
    "search_tool = SerperDevTool()\n",
    "scrape_tool = ScrapeWebsiteTool()\n"
   ]
  },
  {
   "cell_type": "markdown",
   "metadata": {},
   "source": [
    "#Create Agent, Create Tasks, Create/Implement Tools\n",
    "\n",
    "Agent 1 is the ChatBot - see \"chatbot_agent1\" jupyter notebook.\n",
    "\n",
    "Agent 2 is our Researchbot. He will take the ticker and date range from chatbot_agent1 and conduct a search for for recent articles, blog posts, social meadia mentions headlines.\n",
    "\n",
    "Agent 2 will then pass off his findings to Writerbot to create a report\n",
    "\n"
   ]
  },
  {
   "cell_type": "code",
   "execution_count": 12,
   "metadata": {},
   "outputs": [],
   "source": [
    "#Researchbot_agent will take the ticker, company, date range info from the chatbot_agent\n",
    "\n",
    "Researchbot_agent = Agent(\n",
    "    role = \"Researcher\",\n",
    "    \n",
    "    goal = \n",
    "        \"\"\"\n",
    "        1. Conduct a \"sentiment analysis\" search for the ticker and date range information received from the chatbot_agent.\n",
    "        2. Pass your findings off to the writer_agent\n",
    "        \"\"\",\n",
    "    backstory= \"\"\"\n",
    "        1. You have many years of experience conducting investment research.\n",
    "        2. Your area of expertise is in conducting sentiment analysis.\n",
    "        3. Your research sources include social media, news outlets, forums and blogs, and company communications.\n",
    "        4. You pride yourself on being thorough, detailed, accurate, and comprehensive\n",
    "        5. Do not make any assumptions or provide any information that cannot be independently verified.\n",
    "        \"\"\",\n",
    "    verbose=True,\n",
    "    allow_delegation=True,\n",
    "    memory=True,\n",
    "    tools = [search_tool, scrape_tool]\n",
    ")"
   ]
  },
  {
   "cell_type": "code",
   "execution_count": 13,
   "metadata": {},
   "outputs": [],
   "source": [
    "Researchbot_task = Task(\n",
    "    description= \"\"\"\n",
    "        1. Search Twitter/X using the following login information: username: @researchbo32829, password: AIbootcamp2024\n",
    "        2. Search Reddit with no login information\n",
    "        3. Use search_tool and scrape_tool as is customary\n",
    "        \"\"\",\n",
    "    expected_output=(\"\"\"\n",
    "                     Raw output of research findings\n",
    "                    \"\"\"),\n",
    "    agent = Researchbot_agent\n",
    "    )\n"
   ]
  },
  {
   "cell_type": "code",
   "execution_count": 14,
   "metadata": {},
   "outputs": [
    {
     "name": "stderr",
     "output_type": "stream",
     "text": [
      "2024-10-26 13:16:16,044 - 8972 - __init__.py-__init__:538 - WARNING: Overriding of current TracerProvider is not allowed\n"
     ]
    }
   ],
   "source": [
    "from langchain_openai import ChatOpenAI\n",
    "\n",
    "manager_llm=LLM(model=\"ollama/mattarad/llama3.2-3b-instruct-mqc-sa\", temperature=0.3)\n",
    "Researchbot_crew = Crew(\n",
    "    agents = [Researchbot_agent],\n",
    "    tasks=[Researchbot_task],\n",
    "    manager_llm = manager_llm,\n",
    "    process=Process.sequential,\n",
    "    verbose=True\n",
    ")"
   ]
  },
  {
   "cell_type": "code",
   "execution_count": 15,
   "metadata": {},
   "outputs": [
    {
     "ename": "AttributeError",
     "evalue": "'Task' object has no attribute 'kickoff'",
     "output_type": "error",
     "traceback": [
      "\u001b[1;31m---------------------------------------------------------------------------\u001b[0m",
      "\u001b[1;31mAttributeError\u001b[0m                            Traceback (most recent call last)",
      "Cell \u001b[1;32mIn[15], line 2\u001b[0m\n\u001b[0;32m      1\u001b[0m \u001b[38;5;66;03m#chatbot_task.input = user_input\u001b[39;00m\n\u001b[1;32m----> 2\u001b[0m result \u001b[38;5;241m=\u001b[39m \u001b[43mResearchbot_task\u001b[49m\u001b[38;5;241;43m.\u001b[39;49m\u001b[43mkickoff\u001b[49m()\n",
      "File \u001b[1;32mc:\\Users\\Daniel Quinn\\anaconda3\\envs\\dev\\lib\\site-packages\\pydantic\\main.py:856\u001b[0m, in \u001b[0;36mBaseModel.__getattr__\u001b[1;34m(self, item)\u001b[0m\n\u001b[0;32m    853\u001b[0m     \u001b[38;5;28;01mreturn\u001b[39;00m \u001b[38;5;28msuper\u001b[39m()\u001b[38;5;241m.\u001b[39m\u001b[38;5;21m__getattribute__\u001b[39m(item)  \u001b[38;5;66;03m# Raises AttributeError if appropriate\u001b[39;00m\n\u001b[0;32m    854\u001b[0m \u001b[38;5;28;01melse\u001b[39;00m:\n\u001b[0;32m    855\u001b[0m     \u001b[38;5;66;03m# this is the current error\u001b[39;00m\n\u001b[1;32m--> 856\u001b[0m     \u001b[38;5;28;01mraise\u001b[39;00m \u001b[38;5;167;01mAttributeError\u001b[39;00m(\u001b[38;5;124mf\u001b[39m\u001b[38;5;124m'\u001b[39m\u001b[38;5;132;01m{\u001b[39;00m\u001b[38;5;28mtype\u001b[39m(\u001b[38;5;28mself\u001b[39m)\u001b[38;5;241m.\u001b[39m\u001b[38;5;18m__name__\u001b[39m\u001b[38;5;132;01m!r}\u001b[39;00m\u001b[38;5;124m object has no attribute \u001b[39m\u001b[38;5;132;01m{\u001b[39;00mitem\u001b[38;5;132;01m!r}\u001b[39;00m\u001b[38;5;124m'\u001b[39m)\n",
      "\u001b[1;31mAttributeError\u001b[0m: 'Task' object has no attribute 'kickoff'"
     ]
    }
   ],
   "source": [
    "#chatbot_task.input = user_input\n",
    "result = Researchbot_task.kickoff()\n",
    "\n",
    "#print(f\"Chatbot Response: {result.output.raw}\")"
   ]
  }
 ],
 "metadata": {
  "kernelspec": {
   "display_name": "dev",
   "language": "python",
   "name": "python3"
  },
  "language_info": {
   "codemirror_mode": {
    "name": "ipython",
    "version": 3
   },
   "file_extension": ".py",
   "mimetype": "text/x-python",
   "name": "python",
   "nbconvert_exporter": "python",
   "pygments_lexer": "ipython3",
   "version": "3.10.14"
  }
 },
 "nbformat": 4,
 "nbformat_minor": 2
}
